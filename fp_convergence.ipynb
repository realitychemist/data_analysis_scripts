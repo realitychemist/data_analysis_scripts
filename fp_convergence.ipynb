{
 "cells": [
  {
   "cell_type": "code",
   "execution_count": 1,
   "id": "da0f26ff3d6424ef",
   "metadata": {
    "collapsed": true,
    "ExecuteTime": {
     "end_time": "2025-03-31T17:09:30.785762100Z",
     "start_time": "2025-03-31T17:09:28.330601900Z"
    }
   },
   "outputs": [],
   "source": [
    "from ase import io as aio\n",
    "from sim_stem import simulate_stem, preview_stem_result\n",
    "from utils import tk_popover"
   ]
  },
  {
   "cell_type": "code",
   "execution_count": null,
   "outputs": [],
   "source": [
    "cif = aio.read(tk_popover())"
   ],
   "metadata": {
    "collapsed": false
   },
   "id": "b62a6cf90dfb20a1"
  }
 ],
 "metadata": {
  "kernelspec": {
   "display_name": "Python 3",
   "language": "python",
   "name": "python3"
  },
  "language_info": {
   "codemirror_mode": {
    "name": "ipython",
    "version": 2
   },
   "file_extension": ".py",
   "mimetype": "text/x-python",
   "name": "python",
   "nbconvert_exporter": "python",
   "pygments_lexer": "ipython2",
   "version": "2.7.6"
  }
 },
 "nbformat": 4,
 "nbformat_minor": 5
}
